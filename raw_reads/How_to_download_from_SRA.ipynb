{
 "cells": [
  {
   "cell_type": "markdown",
   "metadata": {},
   "source": [
    "Illumina data can be downloaded from SRA using the following workflow.\n",
    "\n",
    "It will requre the [SRA-toolkit](http://www.ncbi.nlm.nih.gov/Traces/sra/?view=toolkit_doc) program `fastq-dump` to be installed on your machine and in your path.\n",
    "\n",
    "If the necessary program is not yet present in your system you can get it as follows:\n"
   ]
  },
  {
   "cell_type": "code",
   "execution_count": null,
   "metadata": {
    "collapsed": false
   },
   "outputs": [],
   "source": [
    "%%bash\n",
    "\n",
    "mkdir SRA-toolkit\n",
    "cd SRA-toolkit\n",
    "\n",
    "wget http://ftp-trace.ncbi.nlm.nih.gov/sra/sdk/2.5.7/sratoolkit.2.5.7-ubuntu64.tar.gz\n",
    "\n",
    "#decompress the archive\n",
    "tar -xzf sratoolkit.2.5.7-ubuntu64.tar.gz\n",
    "\n",
    "#add the fastq-dump executable to your PATH (may require sudo)\n",
    "cp $(pwd)/sratoolkit.2.5.7-ubuntu64/bin/fastq-dump /usr/local/bin\n",
    "\n",
    "#remove SRA toolkit files that are not required\n",
    "cd ..\n",
    "rm -rf SRA-toolkit/\n"
   ]
  },
  {
   "cell_type": "markdown",
   "metadata": {},
   "source": [
    "The following commmand will read through the file `Sample_accessions.tsv` (see [here](https://github.com/HullUni-bioinformatics/Haenfling_et_al_2016/blob/master/supplementary_data/Sample_accessions.tsv)) and download the relevant files basd on the accessions provided in column 3 of the file and rename the files to the sampleID (column 1) and the marker (column 2)."
   ]
  },
  {
   "cell_type": "code",
   "execution_count": null,
   "metadata": {
    "collapsed": false
   },
   "outputs": [],
   "source": [
    "%%bash\n",
    "\n",
    "for s in $(cat ../supplementary_data/Sample_accessions.tsv | sed 's/\\t/,/g' | grep \"SRA_Accession\" -v)\n",
    "do \n",
    "    id=$(echo $s | cut -d \",\" -f 1)\n",
    "    accession=$(echo $s | cut -d \",\" -f 3)\n",
    "    marker=$(echo $s | cut -d \",\" -f 2)\n",
    "    echo -e \"$id\\t$accession\\t$marker\"\n",
    "    fastq-dump --split-files --gzip --defline-seq '@$ac-$sn/$ri' --defline-qual '+' $accession\n",
    "    mv $accession\\_1.fastq.gz $id-$marker\\_1.fastq.gz\n",
    "    mv $accession\\_2.fastq.gz $id-$marker\\_2.fastq.gz\n",
    "done"
   ]
  }
 ],
 "metadata": {
  "kernelspec": {
   "display_name": "Python 2",
   "language": "python",
   "name": "python2"
  },
  "language_info": {
   "codemirror_mode": {
    "name": "ipython",
    "version": 2
   },
   "file_extension": ".py",
   "mimetype": "text/x-python",
   "name": "python",
   "nbconvert_exporter": "python",
   "pygments_lexer": "ipython2",
   "version": "2.7.6"
  }
 },
 "nbformat": 4,
 "nbformat_minor": 0
}
