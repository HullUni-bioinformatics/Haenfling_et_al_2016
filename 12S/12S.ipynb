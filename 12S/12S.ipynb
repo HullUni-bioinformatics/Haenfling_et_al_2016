{
 "cells": [
  {
   "cell_type": "markdown",
   "metadata": {},
   "source": [
    "The first step will be to __trim/clean our raw Illumina data__."
   ]
  },
  {
   "cell_type": "code",
   "execution_count": null,
   "metadata": {
    "collapsed": true
   },
   "outputs": [],
   "source": [
    "!mkdir trimming"
   ]
  },
  {
   "cell_type": "code",
   "execution_count": null,
   "metadata": {
    "collapsed": false
   },
   "outputs": [],
   "source": [
    "cd trimming"
   ]
  },
  {
   "cell_type": "markdown",
   "metadata": {},
   "source": [
    "Prepare a text file specifying the samples to be processed including the format and location of the reads. \n",
    "\n",
    "The below command expects the Illumina data to be present in 2 fastq files (forward and reverse reads) per sample in a directory `./raw_reads/`. It expects the files to be named 'sampleID-marker', followed by '\\_1' or '\\_2' to identify the forward/reverse read file respectively. sampleID must corresponds to the first column in the file `Sample_accessions.tsv`, marker is either '12S' or 'CytB'. \n",
    "\n",
    "Read file names, for example:\n",
    "```\n",
    "./raw_reads/Bassenthwaite_01-12S_1.fastq.gz\n",
    "./raw_reads/Bassenthwaite_01-12S_2.fastq.gz\n",
    "./raw_reads/Bassenthwaite_01-CytB_1.fastq.gz\n",
    "./raw_reads/Bassenthwaite_01-CytB_2.fastq.gz\n",
    "./raw_reads/Bassenthwaite_02-12S_1.fastq.gz\n",
    "./raw_reads/Bassenthwaite_02-12S_2.fastq.gz\n",
    "./raw_reads/Bassenthwaite_02-CytB_1.fastq.gz\n",
    "./raw_reads/Bassenthwaite_02-CytB_2.fastq.gz\n",
    "./raw_reads/Bassenthwaite_03-12S_1.fastq.gz\n",
    "./raw_reads/Bassenthwaite_03-12S_2.fastq.gz\n",
    "```\n"
   ]
  },
  {
   "cell_type": "code",
   "execution_count": null,
   "metadata": {
    "collapsed": false
   },
   "outputs": [],
   "source": [
    "%%bash\n",
    "\n",
    "for a in $(cat ../../supplementary_data/Sample_accessions.tsv | grep \"12S\" | cut -f 1 | grep \"SampleID\" -v)\n",
    "do\n",
    "    R1=$(ls -1 ../../raw_reads/$a-12S_* | grep \"_1.fastq\")\n",
    "    R2=$(ls -1 ../../raw_reads/$a-12S_* | grep \"_2.fastq\")\n",
    "\n",
    "    echo -e \"$a\\tfastq\\t$R1\\t$R2\"\n",
    "done > Querymap.txt"
   ]
  },
  {
   "cell_type": "markdown",
   "metadata": {},
   "source": [
    "The resulting file should look e.g. like below:"
   ]
  },
  {
   "cell_type": "code",
   "execution_count": 50,
   "metadata": {
    "collapsed": false,
    "scrolled": true
   },
   "outputs": [
    {
     "name": "stdout",
     "output_type": "stream",
     "text": [
      "Bassenthwaite_01-nc\tfasta\t../chimera_detection/Bassenthwaite_01/Bassenthwaite_01-nonchimeras.fasta\r\n",
      "Bassenthwaite_02-nc\tfasta\t../chimera_detection/Bassenthwaite_02/Bassenthwaite_02-nonchimeras.fasta\r\n",
      "Bassenthwaite_03-nc\tfasta\t../chimera_detection/Bassenthwaite_03/Bassenthwaite_03-nonchimeras.fasta\r\n",
      "Bassenthwaite_04-nc\tfasta\t../chimera_detection/Bassenthwaite_04/Bassenthwaite_04-nonchimeras.fasta\r\n",
      "Bassenthwaite_05-nc\tfasta\t../chimera_detection/Bassenthwaite_05/Bassenthwaite_05-nonchimeras.fasta\r\n",
      "Bassenthwaite_shore-01-nc\tfasta\t../chimera_detection/Bassenthwaite_shore-01/Bassenthwaite_shore-01-nonchimeras.fasta\r\n",
      "Derwent_01-nc\tfasta\t../chimera_detection/Derwent_01/Derwent_01-nonchimeras.fasta\r\n",
      "Derwent_02-nc\tfasta\t../chimera_detection/Derwent_02/Derwent_02-nonchimeras.fasta\r\n",
      "Derwent_03-nc\tfasta\t../chimera_detection/Derwent_03/Derwent_03-nonchimeras.fasta\r\n",
      "Derwent_04-nc\tfasta\t../chimera_detection/Derwent_04/Derwent_04-nonchimeras.fasta\r\n"
     ]
    }
   ],
   "source": [
    "!head Querymap.txt"
   ]
  },
  {
   "cell_type": "markdown",
   "metadata": {},
   "source": [
    "The 12S amplicon sequenced here is only 106bp long. Readlength used in the MiSeq run was 2x300bp. Our reads are thus longer than our amplicon and we so expect to find primer/adapter sequences in our reads that need to be removed as part of the raw data processing. \n",
    "\n",
    "Specifically, forward reads are expected to contain the reverse complement of the reverse primer plus the reverse Illumina adapter (FA501 - FA508), and reverse reads will contain reverse complements of the forward primers and adapters (RB701 - RB712).\n",
    "\n",
    "The expected sequences have been prepared in the below file `12S_adapters_rc.fasta` and will be used in the trimming algorithm."
   ]
  },
  {
   "cell_type": "code",
   "execution_count": 51,
   "metadata": {
    "collapsed": false
   },
   "outputs": [
    {
     "name": "stdout",
     "output_type": "stream",
     "text": [
      ">FA501_rc\r\n",
      "GGGGTATCTAATCCCAGTCCAATTACCATACGTACGATGTGTAGATCTCGGTGGTCGCCGTATCATT\r\n",
      ">FA502_rc\r\n",
      "GGGGTATCTAATCCCAGTCCAATTACCATACAGATAGTGTGTAGATCTCGGTGGTCGCCGTATCATT\r\n",
      ">FA503_rc\r\n",
      "GGGGTATCTAATCCCAGTCCAATTACCATAACTCGCTAGTGTAGATCTCGGTGGTCGCCGTATCATT\r\n",
      ">FA504_rc\r\n",
      "GGGGTATCTAATCCCAGTCCAATTACCATAACACGCAGGTGTAGATCTCGGTGGTCGCCGTATCATT\r\n",
      ">FA505_rc\r\n",
      "GGGGTATCTAATCCCAGTCCAATTACCATACTCGATGAGTGTAGATCTCGGTGGTCGCCGTATCATT\r\n"
     ]
    }
   ],
   "source": [
    "!head ../12S-adapters_rc.fasta"
   ]
  },
  {
   "cell_type": "markdown",
   "metadata": {},
   "source": [
    "__Raw data trimming, removal of adapter sequences and merging of reads__ using the `metaBEAT` pipeline."
   ]
  },
  {
   "cell_type": "code",
   "execution_count": null,
   "metadata": {
    "collapsed": false
   },
   "outputs": [],
   "source": [
    "%%bash\n",
    "\n",
    "metaBEAT.py \\\n",
    "-Q Querymap.txt \\\n",
    "--trim_qual 30 \\\n",
    "--trim_adapter ../12S-adapters_rc.fasta \\\n",
    "--trim_minlength 90 \\\n",
    "--merge \\\n",
    "--product_length 110 \\\n",
    "-n 5 -v &> log\n"
   ]
  },
  {
   "cell_type": "code",
   "execution_count": null,
   "metadata": {
    "collapsed": false
   },
   "outputs": [],
   "source": [
    "cd ../"
   ]
  },
  {
   "cell_type": "markdown",
   "metadata": {},
   "source": [
    "Some stats on the read counts before/after trimming, merging etc. are summarized for you in `read_stats.csv`."
   ]
  },
  {
   "cell_type": "markdown",
   "metadata": {},
   "source": [
    "Next stage of the processing is __chimera detection__ and removal of putative chimeric sequences. We'll do that using `uchime` as implemented in `vsearch`."
   ]
  },
  {
   "cell_type": "code",
   "execution_count": null,
   "metadata": {
    "collapsed": true
   },
   "outputs": [],
   "source": [
    "!mkdir chimera_detection"
   ]
  },
  {
   "cell_type": "code",
   "execution_count": null,
   "metadata": {
    "collapsed": false
   },
   "outputs": [],
   "source": [
    "cd chimera_detection"
   ]
  },
  {
   "cell_type": "markdown",
   "metadata": {},
   "source": [
    "Convert reference database from Genbank to fasta format to be used in chimera detection.\n",
    "\n",
    "Prepare Refmap file, i.e. text file that specifies the location and the format of the reference to be used.\n",
    "\n",
    "The reference sequences in Genbank format should already be present in the `12S` directory: `custom_extended_12S.gb`."
   ]
  },
  {
   "cell_type": "code",
   "execution_count": null,
   "metadata": {
    "collapsed": false
   },
   "outputs": [],
   "source": [
    "%%bash\n",
    "\n",
    "#Write REFmap\n",
    "for file in $(ls -1 ../* | grep \"gb$\")\n",
    "do\n",
    "    echo -e \"$file\\tgb\"\n",
    "done > REFmap.txt"
   ]
  },
  {
   "cell_type": "code",
   "execution_count": 52,
   "metadata": {
    "collapsed": false
   },
   "outputs": [
    {
     "name": "stdout",
     "output_type": "stream",
     "text": [
      "../custom_extended_12S.gb\tgb\r\n"
     ]
    }
   ],
   "source": [
    "!cat REFmap.txt"
   ]
  },
  {
   "cell_type": "code",
   "execution_count": null,
   "metadata": {
    "collapsed": false
   },
   "outputs": [],
   "source": [
    "%%bash\n",
    "\n",
    "metaBEAT.py \\\n",
    "-R REFmap.txt \\\n",
    "-f"
   ]
  },
  {
   "cell_type": "markdown",
   "metadata": {},
   "source": [
    "This will produce `refs.fasta`.\n",
    "\n",
    "Now run chimera detection."
   ]
  },
  {
   "cell_type": "code",
   "execution_count": null,
   "metadata": {
    "collapsed": false
   },
   "outputs": [],
   "source": [
    "%%bash\n",
    "\n",
    "\n",
    "for a in $(cut -f 1 ../trimming/Querymap.txt)\n",
    "do\n",
    "    if [ -s ../trimming/$a/$a\\_trimmed.fasta ]\n",
    "    then\n",
    "        echo -e \"\\n### Detecting chimeras in $a ###\\n\"\n",
    "        mkdir $a\n",
    "        cd $a\n",
    "        vsearch --uchime_ref ../../trimming/$a/$a\\_trimmed.fasta --db ../refs.fasta \\\n",
    "        --nonchimeras $a-nonchimeras.fasta --chimeras $a-chimeras.fasta &> log\n",
    "        cd ..\n",
    "\n",
    "    else\n",
    "        echo -e \"$a is empty\"\n",
    "    fi\n",
    "done\n",
    "\n",
    "\n"
   ]
  },
  {
   "cell_type": "code",
   "execution_count": null,
   "metadata": {
    "collapsed": false
   },
   "outputs": [],
   "source": [
    "cd .."
   ]
  },
  {
   "cell_type": "markdown",
   "metadata": {},
   "source": [
    "Last step is __taxonomic assignment of reads based on a BLAST - LCA approach__ using the metaBEAT pipeline."
   ]
  },
  {
   "cell_type": "code",
   "execution_count": null,
   "metadata": {
    "collapsed": false
   },
   "outputs": [],
   "source": [
    "!mkdir non-chimeras"
   ]
  },
  {
   "cell_type": "code",
   "execution_count": null,
   "metadata": {
    "collapsed": false
   },
   "outputs": [],
   "source": [
    "cd non-chimeras/"
   ]
  },
  {
   "cell_type": "markdown",
   "metadata": {},
   "source": [
    "Prepare Querymap and Refmap txt files."
   ]
  },
  {
   "cell_type": "code",
   "execution_count": null,
   "metadata": {
    "collapsed": true
   },
   "outputs": [],
   "source": [
    "%%bash\n",
    "\n",
    "#Querymap\n",
    "for a in $(ls -l ../chimera_detection/ | grep \"^d\" | perl -ne 'chomp; @a=split(\" \"); print \"$a[-1]\\n\"')\n",
    "do\n",
    "    echo -e \"$a-nc\\tfasta\\t../chimera_detection/$a/$a-nonchimeras.fasta\"\n",
    "done > Querymap.txt\n",
    "\n",
    "#REFmap\n",
    "#Write REFmap\n",
    "for file in $(ls -1 ../* | grep \"gb$\")\n",
    "do\n",
    "    echo -e \"$file\\tgb\"\n",
    "done > REFmap.txt"
   ]
  },
  {
   "cell_type": "markdown",
   "metadata": {},
   "source": [
    "Sequence clustering and taxonomic assignment via metaBEAT."
   ]
  },
  {
   "cell_type": "code",
   "execution_count": null,
   "metadata": {
    "collapsed": false
   },
   "outputs": [],
   "source": [
    "%%bash\n",
    "\n",
    "metaBEAT.py \\\n",
    "-Q Querymap.txt \\\n",
    "-R REFmap.txt \\\n",
    "--cluster --clust_match 1 --clust_cov 3 \\\n",
    "--blast --min_ident 1 \\\n",
    "-m 12S -n 5 \\\n",
    "-E -v \\\n",
    "-o 12S-trim_30-merged-nonchimeras-cluster_1c3-blast-min_ident_1.0 &> log"
   ]
  },
  {
   "cell_type": "markdown",
   "metadata": {},
   "source": [
    "Final result of taxonomic assignment can be found in the table `12S-trim_30-merged-nonchimeras-cluster_1c3-blast-min_ident_1.0.tsv` (see also [here](https://github.com/HullUni-bioinformatics/Haenfling_et_al_2016/blob/master/supplementary_data/assignment_results/12S-trim_30-nonchimeras-cluster_1c3-blast-min_ident_1.0.tsv)). \n",
    "\n",
    "metaBEAT also produced the final result in [BIOM](http://biom-format.org/) format (`12S-trim_30-merged-nonchimeras-cluster_1c3-blast-min_ident_1.0.biom`), which can be analyzed with a number of tools and visually explored e.g. using [Phinch](http://phinch.org/)."
   ]
  }
 ],
 "metadata": {
  "kernelspec": {
   "display_name": "Python 2",
   "language": "python",
   "name": "python2"
  },
  "language_info": {
   "codemirror_mode": {
    "name": "ipython",
    "version": 2
   },
   "file_extension": ".py",
   "mimetype": "text/x-python",
   "name": "python",
   "nbconvert_exporter": "python",
   "pygments_lexer": "ipython2",
   "version": "2.7.6"
  }
 },
 "nbformat": 4,
 "nbformat_minor": 0
}
