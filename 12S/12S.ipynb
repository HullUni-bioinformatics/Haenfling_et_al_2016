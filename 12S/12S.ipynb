{
 "cells": [
  {
   "cell_type": "markdown",
   "metadata": {},
   "source": [
    "Processing data Molecular ecology paper.\n",
    "\n"
   ]
  },
  {
   "cell_type": "code",
   "execution_count": 2,
   "metadata": {
    "collapsed": false
   },
   "outputs": [],
   "source": [
    "!mkdir 12S"
   ]
  },
  {
   "cell_type": "markdown",
   "metadata": {},
   "source": [
    "Preparing a text file specifying the samples to be processed including the format and location of the reads. \n",
    "\n",
    "The below command expects the Illumina data to be present in 2 fastq files (forward and reverse reads) per sample in a directory `./raw_reads/`. It expects the files to be named 'sampleID-marker', followed by '\\_1' or '\\_2' to identify the forward/reverse read file respectively. sampleID must corresponds to the first column in the file `Sample_accessions.tsv`, marker is either '12S' or 'CytB'. \n",
    "\n",
    "Read file names, for example:\n",
    "```\n",
    "./raw_reads/Bassenthwaite_01-12S_1.fastq.gz\n",
    "./raw_reads/Bassenthwaite_01-12S_2.fastq.gz\n",
    "./raw_reads/Bassenthwaite_01-CytB_1.fastq.gz\n",
    "./raw_reads/Bassenthwaite_01-CytB_2.fastq.gz\n",
    "./raw_reads/Bassenthwaite_02-12S_1.fastq.gz\n",
    "./raw_reads/Bassenthwaite_02-12S_2.fastq.gz\n",
    "./raw_reads/Bassenthwaite_02-CytB_1.fastq.gz\n",
    "./raw_reads/Bassenthwaite_02-CytB_2.fastq.gz\n",
    "./raw_reads/Bassenthwaite_03-12S_1.fastq.gz\n",
    "./raw_reads/Bassenthwaite_03-12S_2.fastq.gz\n",
    "```\n"
   ]
  },
  {
   "cell_type": "code",
   "execution_count": 10,
   "metadata": {
    "collapsed": false
   },
   "outputs": [],
   "source": [
    "%%bash\n",
    "\n",
    "for a in $(cat Sample_accessions.tsv | grep \"12S\" | cut -f 1 | grep \"SampleID\" -v)\n",
    "do\n",
    "    R1=$(ls -1 ./raw_reads/$a-12S_* | grep \"_1.fastq\")\n",
    "    R2=$(ls -1 ./raw_reads/$a-12S_* | grep \"_2.fastq\")\n",
    "\n",
    "    echo -e \"$a\\tfastq\\t$R1\\t$R2\"\n",
    "done > 12S/Querymap.txt"
   ]
  },
  {
   "cell_type": "markdown",
   "metadata": {},
   "source": [
    "The resulting file should look e.g. like below:"
   ]
  },
  {
   "cell_type": "code",
   "execution_count": 11,
   "metadata": {
    "collapsed": false,
    "scrolled": true
   },
   "outputs": [
    {
     "name": "stdout",
     "output_type": "stream",
     "text": [
      "Bassenthwaite_01\tfastq\t./raw_reads/Bassenthwaite_01-12S_1.fastq.gz\t./raw_reads/Bassenthwaite_01-12S_2.fastq.gz\r\n",
      "Bassenthwaite_02\tfastq\t./raw_reads/Bassenthwaite_02-12S_1.fastq.gz\t./raw_reads/Bassenthwaite_02-12S_2.fastq.gz\r\n",
      "Bassenthwaite_03\tfastq\t./raw_reads/Bassenthwaite_03-12S_1.fastq.gz\t./raw_reads/Bassenthwaite_03-12S_2.fastq.gz\r\n",
      "Bassenthwaite_04\tfastq\t./raw_reads/Bassenthwaite_04-12S_1.fastq.gz\t./raw_reads/Bassenthwaite_04-12S_2.fastq.gz\r\n",
      "Bassenthwaite_05\tfastq\t./raw_reads/Bassenthwaite_05-12S_1.fastq.gz\t./raw_reads/Bassenthwaite_05-12S_2.fastq.gz\r\n",
      "Bassenthwaite_shore-01\tfastq\t./raw_reads/Bassenthwaite_shore-01-12S_1.fastq.gz\t./raw_reads/Bassenthwaite_shore-01-12S_2.fastq.gz\r\n",
      "Derwent_01\tfastq\t./raw_reads/Derwent_01-12S_1.fastq.gz\t./raw_reads/Derwent_01-12S_2.fastq.gz\r\n",
      "Derwent_02\tfastq\t./raw_reads/Derwent_02-12S_1.fastq.gz\t./raw_reads/Derwent_02-12S_2.fastq.gz\r\n",
      "Derwent_03\tfastq\t./raw_reads/Derwent_03-12S_1.fastq.gz\t./raw_reads/Derwent_03-12S_2.fastq.gz\r\n",
      "Derwent_04\tfastq\t./raw_reads/Derwent_04-12S_1.fastq.gz\t./raw_reads/Derwent_04-12S_2.fastq.gz\r\n"
     ]
    }
   ],
   "source": [
    "!head 12S/Querymap.txt"
   ]
  },
  {
   "cell_type": "markdown",
   "metadata": {},
   "source": [
    "Prepare Refmap file, i.e. text file that specifies the location and the format of the reference to be used."
   ]
  },
  {
   "cell_type": "code",
   "execution_count": 20,
   "metadata": {
    "collapsed": false
   },
   "outputs": [],
   "source": [
    "%%bash\n",
    "\n",
    "#create symbolic link to reference database\n",
    "cp reference_DBs/custom_extended_12S.gb 12S/\n",
    "\n",
    "#Write REFmap\n",
    "for file in $(ls -1 ./12S/ | grep \"gb$\")\n",
    "do\n",
    "    echo -e \"$file\\tgb\"\n",
    "done > 12S/REFmap.txt"
   ]
  },
  {
   "cell_type": "code",
   "execution_count": 21,
   "metadata": {
    "collapsed": false
   },
   "outputs": [
    {
     "name": "stdout",
     "output_type": "stream",
     "text": [
      "custom_extended_12S.gb\tgb\r\n"
     ]
    }
   ],
   "source": [
    "!cat 12S/REFmap.txt"
   ]
  },
  {
   "cell_type": "markdown",
   "metadata": {},
   "source": [
    "The 12S amplicon sequenced here is only 106bp long. Readlength used in the MiSeq run was 2x300bp. Our reads are thus longer than our amplicon and we so expect to find primer/adapter sequences in our reads that need to be removed as part of the raw data processing. \n",
    "\n",
    "Specifically, forward reads are expected to contain the reverse complement of the reverse primer plus the reverse Illumina adapter (FA501 - FA508), and reverse reads will contain reverse complements of the forward primers and adapters (RB701 - RB712).\n",
    "\n",
    "The expected sequences have been prepared in the below file `adapters_rc.fasta` and will be used in the trimming algorithm."
   ]
  },
  {
   "cell_type": "code",
   "execution_count": 5,
   "metadata": {
    "collapsed": false
   },
   "outputs": [],
   "source": [
    "!ln -s ../adapters_rc.fasta ."
   ]
  },
  {
   "cell_type": "code",
   "execution_count": 6,
   "metadata": {
    "collapsed": false,
    "scrolled": true
   },
   "outputs": [
    {
     "name": "stdout",
     "output_type": "stream",
     "text": [
      ">FA501_rc\r\n",
      "GGGGTATCTAATCCCAGTCCAATTACCATACGTACGATGTGTAGATCTCGGTGGTCGCCGTATCATT\r\n",
      ">FA502_rc\r\n",
      "GGGGTATCTAATCCCAGTCCAATTACCATACAGATAGTGTGTAGATCTCGGTGGTCGCCGTATCATT\r\n",
      ">FA503_rc\r\n",
      "GGGGTATCTAATCCCAGTCCAATTACCATAACTCGCTAGTGTAGATCTCGGTGGTCGCCGTATCATT\r\n",
      ">FA504_rc\r\n",
      "GGGGTATCTAATCCCAGTCCAATTACCATAACACGCAGGTGTAGATCTCGGTGGTCGCCGTATCATT\r\n",
      ">FA505_rc\r\n",
      "GGGGTATCTAATCCCAGTCCAATTACCATACTCGATGAGTGTAGATCTCGGTGGTCGCCGTATCATT\r\n",
      ">FA506_rc\r\n",
      "GGGGTATCTAATCCCAGTCCAATTACCATACACTCACGGTGTAGATCTCGGTGGTCGCCGTATCATT\r\n",
      ">FA507_rc\r\n",
      "GGGGTATCTAATCCCAGTCCAATTACCATAAGATATCCGTGTAGATCTCGGTGGTCGCCGTATCATT\r\n",
      ">FA508_rc\r\n",
      "GGGGTATCTAATCCCAGTCCAATTACCATAACGGTGTCGTGTAGATCTCGGTGGTCGCCGTATCATT\r\n",
      ">RB701_rc\r\n",
      "CTAGAGGAGCCTGTTCTAGGCTGACTGACTCTCGACTTATCTCGTATGCCGTCTTCTGCTTG\r\n",
      ">RB702_rc\r\n",
      "CTAGAGGAGCCTGTTCTAGGCTGACTGACTCGAAGTATATCTCGTATGCCGTCTTCTGCTTG\r\n",
      ">RB703_rc\r\n",
      "CTAGAGGAGCCTGTTCTAGGCTGACTGACTTAGCAGCTATCTCGTATGCCGTCTTCTGCTTG\r\n",
      ">RB704_rc\r\n",
      "CTAGAGGAGCCTGTTCTAGGCTGACTGACTTCTCTATGATCTCGTATGCCGTCTTCTGCTTG\r\n",
      ">RB705_rc\r\n",
      "CTAGAGGAGCCTGTTCTAGGCTGACTGACTGATCTACGATCTCGTATGCCGTCTTCTGCTTG\r\n",
      ">RB706_rc\r\n",
      "CTAGAGGAGCCTGTTCTAGGCTGACTGACTGTAACGAGATCTCGTATGCCGTCTTCTGCTTG\r\n",
      ">RB707_rc\r\n",
      "CTAGAGGAGCCTGTTCTAGGCTGACTGACTACGTGCGCATCTCGTATGCCGTCTTCTGCTTG\r\n",
      ">RB708_rc\r\n",
      "CTAGAGGAGCCTGTTCTAGGCTGACTGACTATAGTACCATCTCGTATGCCGTCTTCTGCTTG\r\n",
      ">RB709_rc\r\n",
      "CTAGAGGAGCCTGTTCTAGGCTGACTGACTGCGTATACATCTCGTATGCCGTCTTCTGCTTG\r\n",
      ">RB710_rc\r\n",
      "CTAGAGGAGCCTGTTCTAGGCTGACTGACTTGCTCGTAATCTCGTATGCCGTCTTCTGCTTG\r\n",
      ">RB711_rc\r\n",
      "CTAGAGGAGCCTGTTCTAGGCTGACTGACTAACGCTGAATCTCGTATGCCGTCTTCTGCTTG\r\n",
      ">RB712_rc\r\n",
      "CTAGAGGAGCCTGTTCTAGGCTGACTGACTCGTAGCGAATCTCGTATGCCGTCTTCTGCTTG\r\n"
     ]
    }
   ],
   "source": [
    "!cat adapters_rc.fasta"
   ]
  },
  {
   "cell_type": "markdown",
   "metadata": {},
   "source": [
    "Run metaBEAT (raw data trimming)."
   ]
  },
  {
   "cell_type": "code",
   "execution_count": 1,
   "metadata": {
    "collapsed": true
   },
   "outputs": [],
   "source": [
    "!mkdir trimming"
   ]
  },
  {
   "cell_type": "code",
   "execution_count": 8,
   "metadata": {
    "collapsed": false
   },
   "outputs": [],
   "source": [
    "%%bash\n",
    "\n",
    "metaBEAT.py \\\n",
    "-Q Querymap.txt \\\n",
    "-R REFmap.txt \\\n",
    "--trim_qual 30 \\\n",
    "--trim_adapter adapters_rc.fasta \\\n",
    "--trim_minlength 90 \\\n",
    "--merge \\\n",
    "--product_length 110 \\\n",
    "--cluster --clust_match 1 --clust_cov 3 \\\n",
    "--blast \\\n",
    "-m 12S \\\n",
    "-n 5 \\\n",
    "--min_ident 1 -E -v \\\n",
    "-@ c.hahn@hull.ac.uk \\\n",
    "-o 12S-trim_30-cluster_1c3-blast-min_ident_1.0 &> log\n",
    "\n",
    "cd trimming/\n",
    "\n",
    "metaBEAT.py \\\n",
    "-Q ../QUERYmap.txt \\\n",
    "-R ../REFmap.txt \\\n",
    "--trim_adapter ../adapters_rc.fasta \\\n",
    "--trim_minlength 90 \\\n",
    "--merge \\\n",
    "--product_length 120 \\\n",
    "--forward_only \\\n",
    "-m 12S \\\n",
    "-n 5 \\\n",
    "-v \\\n",
    "-o 12S_trim_30-merge \\\n",
    "-@ c.hahn@hull.ac.uk &> log\n",
    "\n",
    "cd .."
   ]
  },
  {
   "cell_type": "code",
   "execution_count": null,
   "metadata": {
    "collapsed": true
   },
   "outputs": [],
   "source": []
  }
 ],
 "metadata": {
  "kernelspec": {
   "display_name": "Python 2",
   "language": "python",
   "name": "python2"
  },
  "language_info": {
   "codemirror_mode": {
    "name": "ipython",
    "version": 2
   },
   "file_extension": ".py",
   "mimetype": "text/x-python",
   "name": "python",
   "nbconvert_exporter": "python",
   "pygments_lexer": "ipython2",
   "version": "2.7.6"
  }
 },
 "nbformat": 4,
 "nbformat_minor": 0
}
